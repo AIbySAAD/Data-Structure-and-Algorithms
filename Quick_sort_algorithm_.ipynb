{
  "nbformat": 4,
  "nbformat_minor": 0,
  "metadata": {
    "colab": {
      "provenance": []
    },
    "kernelspec": {
      "name": "python3",
      "display_name": "Python 3"
    },
    "language_info": {
      "name": "python"
    }
  },
  "cells": [
    {
      "cell_type": "code",
      "source": [
        "def quick_sort(arr):\n",
        "  if len(arr) <= 1:\n",
        "    return arr\n",
        "  else:\n",
        "    pivot=arr[len(arr)//2]\n",
        "    left=[x for x in arr if x<pivot]\n",
        "    middle=[x for x in arr if x==pivot]\n",
        "    right=[x for x in arr if x>pivot]\n",
        "    return quick_sort(left)+middle+quick_sort(right)\n",
        "\n",
        "\n",
        "unsorted_list=[10,7,8,9,1,5,4,6]\n",
        "sorted_list=quick_sort(unsorted_list)\n",
        "sorted_list"
      ],
      "metadata": {
        "colab": {
          "base_uri": "https://localhost:8080/"
        },
        "id": "Zoikp3fD9Li1",
        "outputId": "6779224b-e9c4-4fdb-96f1-732939bd0aec"
      },
      "execution_count": 18,
      "outputs": [
        {
          "output_type": "execute_result",
          "data": {
            "text/plain": [
              "[1, 4, 5, 6, 7, 8, 9, 10]"
            ]
          },
          "metadata": {},
          "execution_count": 18
        }
      ]
    }
  ]
}