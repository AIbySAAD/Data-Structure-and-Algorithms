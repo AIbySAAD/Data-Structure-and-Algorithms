{
  "nbformat": 4,
  "nbformat_minor": 0,
  "metadata": {
    "colab": {
      "provenance": []
    },
    "kernelspec": {
      "name": "python3",
      "display_name": "Python 3"
    },
    "language_info": {
      "name": "python"
    }
  },
  "cells": [
    {
      "cell_type": "markdown",
      "source": [
        "Ineffecient"
      ],
      "metadata": {
        "id": "PeuHugrU5V4G"
      }
    },
    {
      "cell_type": "code",
      "execution_count": 9,
      "metadata": {
        "id": "SvyzoKJgTBQn",
        "colab": {
          "base_uri": "https://localhost:8080/"
        },
        "outputId": "75553491-4756-4e3b-da7f-e48d82569993"
      },
      "outputs": [
        {
          "output_type": "execute_result",
          "data": {
            "text/plain": [
              "[1, 3, 4, 9, 43, 55, 67]"
            ]
          },
          "metadata": {},
          "execution_count": 9
        }
      ],
      "source": [
        "def bubble_sort(elements):\n",
        "  size=len(elements)\n",
        "  for j in range(size-1):\n",
        "    for i in range(size-1):\n",
        "      if elements[i]>elements[i+1]:\n",
        "        temp=elements[i]\n",
        "        elements[i]=elements[i+1]\n",
        "        elements[i+1]=temp\n",
        "\n",
        "elements= [4,3,67,43,55,1,9]\n",
        "bubble_sort(elements)\n",
        "elements"
      ]
    },
    {
      "cell_type": "markdown",
      "source": [
        "Effecient"
      ],
      "metadata": {
        "id": "x9I-ax9X5dFs"
      }
    },
    {
      "cell_type": "code",
      "source": [
        "def bubble_sort(elements):\n",
        "  size=len(elements)\n",
        "  for j in range(size-1):\n",
        "    for i in range(size-1-j): # as the last elements are sorted then we dont want to sort them again and again\n",
        "      if elements[i]>elements[i+1]:\n",
        "        temp=elements[i]\n",
        "        elements[i]=elements[i+1]\n",
        "        elements[i+1]=temp\n",
        "\n",
        "elements= [4,3,67,43,55,1,9]\n",
        "bubble_sort(elements)\n",
        "elements"
      ],
      "metadata": {
        "colab": {
          "base_uri": "https://localhost:8080/"
        },
        "id": "mrng23Fs3rum",
        "outputId": "f3ad25b0-8770-4fa1-f14f-3576fd22568d"
      },
      "execution_count": 11,
      "outputs": [
        {
          "output_type": "execute_result",
          "data": {
            "text/plain": [
              "[1, 3, 4, 9, 43, 55, 67]"
            ]
          },
          "metadata": {},
          "execution_count": 11
        }
      ]
    },
    {
      "cell_type": "markdown",
      "source": [
        "More Effecient.. we could knew early whether our list is already sorted or not"
      ],
      "metadata": {
        "id": "7rZAKZQs5rjU"
      }
    },
    {
      "cell_type": "code",
      "source": [
        "def bubble_sort(elements):\n",
        "  size=len(elements)\n",
        "  for j in range(size-1):\n",
        "    swapped=False\n",
        "    for i in range(size-1):\n",
        "      if elements[i]>elements[i+1]:\n",
        "        temp=elements[i]\n",
        "        elements[i]=elements[i+1]\n",
        "        elements[i+1]=temp\n",
        "        swapped=True\n",
        "    if not swapped:\n",
        "      break\n",
        "\n",
        "elements= [1,2,3,4]\n",
        "bubble_sort(elements)\n",
        "elements"
      ],
      "metadata": {
        "colab": {
          "base_uri": "https://localhost:8080/"
        },
        "id": "X-63IJAq5hZ5",
        "outputId": "b6b58ecf-e614-4169-a63c-2e6b4706880a"
      },
      "execution_count": 13,
      "outputs": [
        {
          "output_type": "execute_result",
          "data": {
            "text/plain": [
              "[1, 2, 3, 4]"
            ]
          },
          "metadata": {},
          "execution_count": 13
        }
      ]
    }
  ]
}